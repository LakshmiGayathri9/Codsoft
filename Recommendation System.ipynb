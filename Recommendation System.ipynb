{
  "nbformat": 4,
  "nbformat_minor": 0,
  "metadata": {
    "colab": {
      "provenance": [],
      "authorship_tag": "ABX9TyMMCiEuTC8+cYDDaPpPKj9H",
      "include_colab_link": true
    },
    "kernelspec": {
      "name": "python3",
      "display_name": "Python 3"
    },
    "language_info": {
      "name": "python"
    }
  },
  "cells": [
    {
      "cell_type": "markdown",
      "metadata": {
        "id": "view-in-github",
        "colab_type": "text"
      },
      "source": [
        "<a href=\"https://colab.research.google.com/github/LakshmiGayathri9/Codsoft/blob/main/Movie_Recommendation_ipynb.ipynb\" target=\"_parent\"><img src=\"https://colab.research.google.com/assets/colab-badge.svg\" alt=\"Open In Colab\"/></a>"
      ]
    },
    {
      "cell_type": "code",
      "execution_count": null,
      "metadata": {
        "colab": {
          "base_uri": "https://localhost:8080/"
        },
        "id": "lLqBl7_OdhXZ",
        "outputId": "a798390e-dae8-44c4-c670-6e6b375fa348"
      },
      "outputs": [
        {
          "output_type": "stream",
          "name": "stdout",
          "text": [
            "Collecting scikit-surprise\n",
            "  Downloading scikit_surprise-1.1.4.tar.gz (154 kB)\n",
            "\u001b[?25l     \u001b[90m━━━━━━━━━━━━━━━━━━━━━━━━━━━━━━━━━━━━━━━━\u001b[0m \u001b[32m0.0/154.4 kB\u001b[0m \u001b[31m?\u001b[0m eta \u001b[36m-:--:--\u001b[0m\r\u001b[2K     \u001b[91m━━━━━━━━━━━━━━━━━━━━━━━━━━━━━━━━━━━━━━━\u001b[0m\u001b[91m╸\u001b[0m \u001b[32m153.6/154.4 kB\u001b[0m \u001b[31m4.9 MB/s\u001b[0m eta \u001b[36m0:00:01\u001b[0m\r\u001b[2K     \u001b[90m━━━━━━━━━━━━━━━━━━━━━━━━━━━━━━━━━━━━━━━━\u001b[0m \u001b[32m154.4/154.4 kB\u001b[0m \u001b[31m2.9 MB/s\u001b[0m eta \u001b[36m0:00:00\u001b[0m\n",
            "\u001b[?25h  Installing build dependencies ... \u001b[?25l\u001b[?25hdone\n",
            "  Getting requirements to build wheel ... \u001b[?25l\u001b[?25hdone\n",
            "  Preparing metadata (pyproject.toml) ... \u001b[?25l\u001b[?25hdone\n",
            "Requirement already satisfied: joblib>=1.2.0 in /usr/local/lib/python3.10/dist-packages (from scikit-surprise) (1.4.2)\n",
            "Requirement already satisfied: numpy>=1.19.5 in /usr/local/lib/python3.10/dist-packages (from scikit-surprise) (1.26.4)\n",
            "Requirement already satisfied: scipy>=1.6.0 in /usr/local/lib/python3.10/dist-packages (from scikit-surprise) (1.13.1)\n",
            "Building wheels for collected packages: scikit-surprise\n",
            "  Building wheel for scikit-surprise (pyproject.toml) ... \u001b[?25l\u001b[?25hdone\n",
            "  Created wheel for scikit-surprise: filename=scikit_surprise-1.1.4-cp310-cp310-linux_x86_64.whl size=2357281 sha256=a68c18ac0fec5a22472633c681ae6e77d6f88c742e01ae5e5512f21cedabf686\n",
            "  Stored in directory: /root/.cache/pip/wheels/4b/3f/df/6acbf0a40397d9bf3ff97f582cc22fb9ce66adde75bc71fd54\n",
            "Successfully built scikit-surprise\n",
            "Installing collected packages: scikit-surprise\n",
            "Successfully installed scikit-surprise-1.1.4\n",
            "--2024-08-12 13:23:49--  http://files.grouplens.org/datasets/movielens/ml-latest-small.zip\n",
            "Resolving files.grouplens.org (files.grouplens.org)... 128.101.65.152\n",
            "Connecting to files.grouplens.org (files.grouplens.org)|128.101.65.152|:80... connected.\n",
            "HTTP request sent, awaiting response... 200 OK\n",
            "Length: 978202 (955K) [application/zip]\n",
            "Saving to: ‘ml-latest-small.zip’\n",
            "\n",
            "ml-latest-small.zip 100%[===================>] 955.28K  1.44MB/s    in 0.6s    \n",
            "\n",
            "2024-08-12 13:23:50 (1.44 MB/s) - ‘ml-latest-small.zip’ saved [978202/978202]\n",
            "\n",
            "Archive:  ml-latest-small.zip\n",
            "   creating: ml-latest-small/\n",
            "  inflating: ml-latest-small/links.csv  \n",
            "  inflating: ml-latest-small/tags.csv  \n",
            "  inflating: ml-latest-small/ratings.csv  \n",
            "  inflating: ml-latest-small/README.txt  \n",
            "  inflating: ml-latest-small/movies.csv  \n",
            "   userId  movieId  rating  timestamp\n",
            "0       1        1     4.0  964982703\n",
            "1       1        3     4.0  964981247\n",
            "2       1        6     4.0  964982224\n",
            "3       1       47     5.0  964983815\n",
            "4       1       50     5.0  964982931\n",
            "Evaluating RMSE, MAE of algorithm SVD on 5 split(s).\n",
            "\n",
            "                  Fold 1  Fold 2  Fold 3  Fold 4  Fold 5  Mean    Std     \n",
            "RMSE (testset)    0.8769  0.8714  0.8750  0.8732  0.8716  0.8737  0.0021  \n",
            "MAE (testset)     0.6750  0.6698  0.6722  0.6727  0.6696  0.6718  0.0020  \n",
            "Fit time          1.62    1.82    1.77    2.00    2.88    2.02    0.45    \n",
            "Test time         0.26    0.14    0.25    0.14    0.13    0.18    0.06    \n",
            "Top 10 movie recommendations for user 1:\n",
            "Movie ID: 608, Estimated Rating: 5.00\n",
            "Movie ID: 923, Estimated Rating: 5.00\n",
            "Movie ID: 1089, Estimated Rating: 5.00\n",
            "Movie ID: 1213, Estimated Rating: 5.00\n",
            "Movie ID: 2959, Estimated Rating: 5.00\n",
            "Movie ID: 48516, Estimated Rating: 5.00\n",
            "Movie ID: 58559, Estimated Rating: 5.00\n",
            "Movie ID: 68157, Estimated Rating: 5.00\n",
            "Movie ID: 898, Estimated Rating: 5.00\n",
            "Movie ID: 912, Estimated Rating: 5.00\n"
          ]
        }
      ],
      "source": [
        "# Install required libraries\n",
        "!pip install scikit-surprise\n",
        "\n",
        "# Download and unzip the MovieLens dataset (ml-latest-small.zip)\n",
        "!wget -nc http://files.grouplens.org/datasets/movielens/ml-latest-small.zip\n",
        "!unzip -n ml-latest-small.zip\n",
        "\n",
        "import pandas as pd\n",
        "from surprise import Dataset, Reader, SVD\n",
        "from surprise.model_selection import cross_validate, train_test_split\n",
        "\n",
        "# Load the dataset\n",
        "data = pd.read_csv('ml-latest-small/ratings.csv')\n",
        "\n",
        "# Inspect the data\n",
        "print(data.head())\n",
        "\n",
        "# Create a reader to parse the data\n",
        "reader = Reader(rating_scale=(0.5, 5.0))\n",
        "\n",
        "# Load the data into Surprise's dataset format\n",
        "dataset = Dataset.load_from_df(data[['userId', 'movieId', 'rating']], reader)\n",
        "\n",
        "# Instantiate the SVD model\n",
        "model = SVD()\n",
        "\n",
        "# Perform cross-validation\n",
        "cross_validate(model, dataset, measures=['RMSE', 'MAE'], cv=5, verbose=True)\n",
        "\n",
        "# Split the data into train and test sets\n",
        "trainset, testset = train_test_split(dataset, test_size=0.25)\n",
        "\n",
        "# Train the model on the trainset\n",
        "model.fit(trainset)\n",
        "\n",
        "# Get a list of all movie IDs\n",
        "movie_ids = data['movieId'].unique()\n",
        "\n",
        "# Get the list of movies the user has already rated\n",
        "user_id = 1  # Specify the user ID for whom you want to make recommendations\n",
        "rated_movies = data[data['userId'] == user_id]['movieId']\n",
        "\n",
        "# Get the list of movies the user hasn't rated yet\n",
        "unrated_movies = [movie_id for movie_id in movie_ids if movie_id not in rated_movies]\n",
        "\n",
        "# Predict ratings for the unrated movies\n",
        "predictions = [model.predict(user_id, movie_id) for movie_id in unrated_movies]\n",
        "\n",
        "# Sort the predictions by estimated rating in descending order\n",
        "predictions.sort(key=lambda x: x.est, reverse=True)\n",
        "\n",
        "# Get the top 10 recommendations\n",
        "top_10_recommendations = predictions[:10]\n",
        "\n",
        "# Print the top 10 recommendations\n",
        "print(\"Top 10 movie recommendations for user {}:\".format(user_id))\n",
        "for prediction in top_10_recommendations:\n",
        "    print(f\"Movie ID: {prediction.iid}, Estimated Rating: {prediction.est:.2f}\")\n",
        "\n",
        "\n"
      ]
    }
  ]
}
