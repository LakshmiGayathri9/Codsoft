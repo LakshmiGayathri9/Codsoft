{
  "nbformat": 4,
  "nbformat_minor": 0,
  "metadata": {
    "colab": {
      "provenance": [],
      "authorship_tag": "ABX9TyNJKGvBRO8+BcKuJMiaOHTa",
      "include_colab_link": true
    },
    "kernelspec": {
      "name": "python3",
      "display_name": "Python 3"
    },
    "language_info": {
      "name": "python"
    }
  },
  "cells": [
    {
      "cell_type": "markdown",
      "metadata": {
        "id": "view-in-github",
        "colab_type": "text"
      },
      "source": [
        "<a href=\"https://colab.research.google.com/github/LakshmiGayathri9/Codsoft/blob/main/Chatbot.ipynb\" target=\"_parent\"><img src=\"https://colab.research.google.com/assets/colab-badge.svg\" alt=\"Open In Colab\"/></a>"
      ]
    },
    {
      "cell_type": "code",
      "source": [
        "import re\n",
        "\n",
        "class Chatbot:\n",
        "    def __init__(self):\n",
        "        self.user_name = None\n",
        "\n",
        "    def get_response(self, user_input):\n",
        "        user_input = user_input.lower()\n",
        "\n",
        "        # Greetings\n",
        "        if re.search(r'\\bhello\\b|\\bhi\\b|\\bhey\\b', user_input):\n",
        "            return \"Hello! How can I assist you today?\"\n",
        "\n",
        "        # Asking about the bot's well-being\n",
        "        elif re.search(r'\\bhow are you\\b|\\bhows it going\\b|\\bhow do you do\\b', user_input):\n",
        "            return \"I'm just a bot, but I'm here and ready to help! How can I assist you?\"\n",
        "\n",
        "        # Asking the bot's name\n",
        "        elif re.search(r'\\bwhat is your name\\b|\\byour name\\b|\\bwho are you\\b', user_input):\n",
        "            return \"I don't have a personal name, but you can call me Chatbot.\"\n",
        "\n",
        "        # Personalization\n",
        "        elif re.search(r'\\bmy name is\\b', user_input):\n",
        "            self.user_name = user_input.split('is')[-1].strip().title()\n",
        "            return f\"Nice to meet you, {self.user_name}!\"\n",
        "\n",
        "        elif self.user_name and re.search(r'\\bhi\\b|\\bhello\\b|\\bhey\\b', user_input):\n",
        "            return f\"Hello again, {self.user_name}! How can I help you today?\"\n",
        "\n",
        "        # Farewell\n",
        "        elif re.search(r'\\bbye\\b|\\bgoodbye\\b|\\btake care\\b', user_input):\n",
        "            return \"Goodbye! Have a wonderful day!\"\n",
        "\n",
        "        # Information about the bot\n",
        "        elif re.search(r'\\bwhat can you do\\b|\\bwhat are your capabilities\\b|\\bwhat is your purpose\\b', user_input):\n",
        "            return \"I can assist with answering questions, provide information, or just chat with you. Ask me anything!\"\n",
        "\n",
        "        # Help\n",
        "        elif re.search(r'\\bhelp\\b|\\bcan you help\\b|\\bi need help\\b', user_input):\n",
        "            return \"Sure! You can ask me about my name, how I'm doing, or just have a casual chat with me.\"\n",
        "\n",
        "        # Joke\n",
        "        elif re.search(r'\\btell me a joke\\b|\\bmake me laugh\\b|\\bdo you know any jokes\\b', user_input):\n",
        "            return \"Why don't scientists trust atoms? Because they make up everything!\"\n",
        "\n",
        "        # Weather\n",
        "        elif re.search(r'\\bwhat is the weather like\\b|\\bweather\\b|\\bforecast\\b', user_input):\n",
        "            return \"I can't check the weather right now, but you can look it up on a weather app or website.\"\n",
        "\n",
        "        # Time\n",
        "        elif re.search(r'\\bwhat time is it\\b|\\bcurrent time\\b|\\btime\\b', user_input):\n",
        "            from datetime import datetime\n",
        "            now = datetime.now()\n",
        "            return f\"The current time is {now.strftime('%H:%M:%S')}.\"\n",
        "\n",
        "        # Basic small talk\n",
        "        elif re.search(r'\\bwhat is your favorite color\\b|\\bfavorite color\\b', user_input):\n",
        "            return \"I don't have personal preferences, but I hear blue is a popular favorite!\"\n",
        "\n",
        "        elif re.search(r'\\bdo you have any hobbies\\b|\\bhobbies\\b', user_input):\n",
        "            return \"As a chatbot, I don't have hobbies, but I enjoy helping people like you!\"\n",
        "\n",
        "        # Default fallback\n",
        "        else:\n",
        "            return \"Sorry, I didn't understand that. Can you please rephrase or ask something else?\"\n",
        "\n",
        "def main():\n",
        "    print(\"Welcome to the chatbot! Type 'bye' or 'goodbye' to exit.\")\n",
        "    bot = Chatbot()\n",
        "\n",
        "    while True:\n",
        "        user_input = input(\"You: \")\n",
        "        response = bot.get_response(user_input)\n",
        "        print(\"Chatbot:\", response)\n",
        "\n",
        "        if re.search(r'\\bbye\\b|\\bgoodbye\\b|\\btake care\\b', user_input):\n",
        "            break\n",
        "\n",
        "if __name__ == \"__main__\":\n",
        "    main()"
      ],
      "metadata": {
        "colab": {
          "base_uri": "https://localhost:8080/"
        },
        "id": "mzlYJ1VcyTDM",
        "outputId": "9a8c057e-343f-4fe7-9632-7cf1cb7fbeb3"
      },
      "execution_count": null,
      "outputs": [
        {
          "output_type": "stream",
          "name": "stdout",
          "text": [
            "Welcome to the chatbot! Type 'bye' or 'goodbye' to exit.\n",
            "You: hello\n",
            "Chatbot: Hello! How can I assist you today?\n",
            "You: what can you do?\n",
            "Chatbot: I can assist with answering questions, provide information, or just chat with you. Ask me anything!\n",
            "You: tell me a joke\n",
            "Chatbot: Why don't scientists trust atoms? Because they make up everything!\n",
            "You: bye\n",
            "Chatbot: Goodbye! Have a wonderful day!\n"
          ]
        }
      ]
    }
  ]
}